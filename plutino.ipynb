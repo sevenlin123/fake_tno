{
 "cells": [
  {
   "cell_type": "code",
   "execution_count": null,
   "metadata": {},
   "outputs": [
    {
     "name": "stderr",
     "output_type": "stream",
     "text": [
      "[#################                ]  52% de422.bsp"
     ]
    }
   ],
   "source": [
    "%matplotlib inline\n",
    "import numpy as np\n",
    "from skyfield.api import load\n",
    "from scipy.optimize import newton\n",
    "from matplotlib import pyplot as plt\n",
    "import plotly\n",
    "import plotly.plotly as py\n",
    "from plotly.offline import download_plotlyjs, init_notebook_mode, plot, iplot\n",
    "from plotly.graph_objs import *\n",
    "from footprint import *\n",
    "from tno_models import trojan, plutino, twotino\n",
    "init_notebook_mode(connected=True)\n",
    "planets = load('de423.bsp')\n",
    "plotly.tools.set_credentials_file(username='sevenlin123', api_key='vhjhhsCHepMx5oQGJPEp')"
   ]
  },
  {
   "cell_type": "code",
   "execution_count": null,
   "metadata": {
    "collapsed": true
   },
   "outputs": [],
   "source": [
    "#p = plutino(size = 2000, mjd=58199, e_c = 0.3, e_sigma = 0.01, amp_c = 1, amp_max = 2, amp_min = 0)\n",
    "p = plutino(size = 5000, mjd=57023)"
   ]
  },
  {
   "cell_type": "code",
   "execution_count": null,
   "metadata": {
    "scrolled": true
   },
   "outputs": [],
   "source": [
    "plt.hist(p.a, bins = 20)"
   ]
  },
  {
   "cell_type": "code",
   "execution_count": null,
   "metadata": {
    "scrolled": true
   },
   "outputs": [],
   "source": [
    "plt.hist(p.e, bins = 20)"
   ]
  },
  {
   "cell_type": "code",
   "execution_count": null,
   "metadata": {},
   "outputs": [],
   "source": [
    "plt.hist(p.i*180/np.pi, bins = 20)"
   ]
  },
  {
   "cell_type": "code",
   "execution_count": null,
   "metadata": {},
   "outputs": [],
   "source": [
    "plt.yscale('log', nonposy='clip')\n",
    "plt.hist(p.H, bins = 20)"
   ]
  },
  {
   "cell_type": "code",
   "execution_count": null,
   "metadata": {},
   "outputs": [],
   "source": [
    "plt.yscale('log', nonposy='clip')\n",
    "plt.hist(p.mag_r, bins = 20)"
   ]
  },
  {
   "cell_type": "code",
   "execution_count": null,
   "metadata": {},
   "outputs": [],
   "source": [
    "plt.hist(p.M, bins = 20)"
   ]
  },
  {
   "cell_type": "code",
   "execution_count": null,
   "metadata": {},
   "outputs": [],
   "source": [
    "plt.hist(p.arg, bins = 20)"
   ]
  },
  {
   "cell_type": "code",
   "execution_count": null,
   "metadata": {},
   "outputs": [],
   "source": [
    "plt.hist(p.node, bins = 20)"
   ]
  },
  {
   "cell_type": "code",
   "execution_count": null,
   "metadata": {},
   "outputs": [],
   "source": [
    "plt.hist((p.arg+p.node) % (2*np.pi), bins = 20)"
   ]
  },
  {
   "cell_type": "code",
   "execution_count": null,
   "metadata": {},
   "outputs": [],
   "source": [
    "plt.hist(p.phi, bins = 20)"
   ]
  },
  {
   "cell_type": "code",
   "execution_count": null,
   "metadata": {
    "collapsed": true
   },
   "outputs": [],
   "source": [
    "def kep_to_xyz(a, e, i, arg, node, M):\n",
    "    # compute eccentric anomaly\n",
    "    f = lambda E, M, e: E - e * np.sin(E) - M\n",
    "    E0 = M\n",
    "    E = newton(f, E0, args=(M, e))\n",
    "    # compute true anomaly\n",
    "    v = 2 * np.arctan2((1 + e)**0.5*np.sin(E/2.), (1 - e)**0.5*np.cos(E/2.))\n",
    "    # compute the radius\n",
    "    r = a * (1 - e*np.cos(E))\n",
    "    # compute X,Y,Z\n",
    "    X = r * (np.cos(node) * np.cos(arg + v) - np.sin(node) * np.sin(arg + v) * np.cos(i))\n",
    "    Y = r * (np.sin(node) * np.cos(arg + v) + np.cos(node) * np.sin(arg + v) * np.cos(i))\n",
    "    Z = r * (np.sin(i) * np.sin(arg + v))\n",
    "    return X, Y, Z"
   ]
  },
  {
   "cell_type": "code",
   "execution_count": null,
   "metadata": {
    "collapsed": true
   },
   "outputs": [],
   "source": [
    "xn, yn, zn = zip(*map(kep_to_xyz, 30+np.zeros(1000), np.zeros(1000), np.zeros(1000), np.zeros(1000), np.zeros(1000), np.arange(0, 6.28, 0.00628)))\n",
    "x45, y45, z45 = zip(*map(kep_to_xyz, 45+np.zeros(1000), np.zeros(1000), np.zeros(1000), np.zeros(1000), np.zeros(1000), np.arange(0, 6.28, 0.00628)))"
   ]
  },
  {
   "cell_type": "code",
   "execution_count": null,
   "metadata": {},
   "outputs": [],
   "source": [
    "plt.axis('equal')\n",
    "plt.scatter(p.X,p.Y, marker = '.')\n",
    "plt.plot(xn, yn, 'y')\n",
    "plt.plot(x45, y45, 'y')\n",
    "plt.plot(p.x_n, p.y_n, 'ro')"
   ]
  },
  {
   "cell_type": "code",
   "execution_count": null,
   "metadata": {},
   "outputs": [],
   "source": [
    "plt.axis('equal')\n",
    "plt.scatter(p.X,p.Z, marker = '.')"
   ]
  },
  {
   "cell_type": "code",
   "execution_count": null,
   "metadata": {
    "collapsed": true
   },
   "outputs": [],
   "source": [
    "def buildmap(obj_ra, obj_dec, ecliptic_plots=True):\n",
    "    lon, lat = define_footprint(ecliptic_plots=ecliptic_plots) \n",
    "#    lon2, lat2 = define_footprint(polydef='poly_bliss_p9.txt', ecliptic_plots=ecliptic_plots) \n",
    "    m = Basemap(lon_0=0, projection='moll', celestial=True)\n",
    "    x, y = m( lon, lat )\n",
    "#    x2,y2 = m(lon2, lat2)\n",
    "    xy = zip(x,y)\n",
    "#    xy2 = zip(x2,y2)\n",
    "    foot = patches.Polygon( xy, facecolor='cornflowerblue', edgecolor=None, alpha=0.4 )\n",
    "#    foot2 = patches.Polygon( xy2, facecolor='lightpink', edgecolor=None, alpha=0.4 )\n",
    "    plt.gca().add_patch(foot)\n",
    "#    plt.gca().add_patch(foot2)\n",
    "    fields = SNfields()\n",
    "    for f in fields:\n",
    "        if ecliptic_plots:\n",
    "            ecl = ephem.Ecliptic(ephem.Equatorial(f.a_ra, f.a_dec))\n",
    "            lon = ecl.lon if ecl.lon<ephem.degrees('180') else ecl.lon-2*np.pi    \n",
    "            m.tissot(lon*180/np.pi, ecl.lat*180/np.pi, 1.05, 100, facecolor='g', alpha=0.5)\n",
    "        else:\n",
    "            ra = f.a_ra if f.a_ra<ephem.degrees('180') else f.a_ra-2*np.pi\n",
    "            m.tissot(ra*180/np.pi, f.a_dec*180/np.pi, 1.05, 100, facecolor='r', alpha=0.5)\n",
    "    obj_ra = obj_ra*180/np.pi\n",
    "    obj_dec = obj_dec*180/np.pi\n",
    "    for i in range(len(obj_ra)):\n",
    "        m.scatter(obj_ra[i], obj_dec[i],3,marker='.',color='k', latlon=True)\n",
    "    m.drawmapboundary()\n",
    "    parallels = np.arange(-180.,181,20.)\n",
    "    m.drawparallels(parallels,labels=[False,True,True,False], alpha=0.4)\n",
    "    meridians = np.arange(-180.,181.,20.)\n",
    "    m.drawmeridians(meridians, alpha=0.4)\n",
    "    return m"
   ]
  },
  {
   "cell_type": "code",
   "execution_count": null,
   "metadata": {},
   "outputs": [],
   "source": [
    "plt.figure(figsize=(20,10))\n",
    "m = buildmap(p.ra, p.dec, ecliptic_plots=False)"
   ]
  },
  {
   "cell_type": "code",
   "execution_count": null,
   "metadata": {},
   "outputs": [],
   "source": [
    "plutinos = Scatter3d(x=p.X, y=p.Y, z=p.Z, mode='markers', marker=dict(size=1, symbol='circle'), opacity=0.7, name='plutinos')\n",
    "sun = Scatter3d(x=0, y=0, z=0, mode='markers', marker=dict(size=10, symbol='circle'), opacity=1, name='Sun')\n",
    "neptune = Scatter3d(x=p.x_n, y=p.y_n, z=p.z_n, mode='markers', marker=dict(size=5, symbol='circle'), opacity=0.7, name ='Neptune')\n",
    "fig = Figure(data=[plutinos, sun, neptune])\n",
    "py.iplot(fig)"
   ]
  },
  {
   "cell_type": "code",
   "execution_count": null,
   "metadata": {
    "collapsed": true
   },
   "outputs": [],
   "source": [
    "t = trojan(size = 5000, mjd=57023)"
   ]
  },
  {
   "cell_type": "code",
   "execution_count": null,
   "metadata": {},
   "outputs": [],
   "source": [
    "plt.hist(t.a, bins = 20)"
   ]
  },
  {
   "cell_type": "code",
   "execution_count": null,
   "metadata": {},
   "outputs": [],
   "source": [
    "plt.hist(t.e, bins = 20)"
   ]
  },
  {
   "cell_type": "code",
   "execution_count": null,
   "metadata": {},
   "outputs": [],
   "source": [
    "plt.hist(t.i*180/np.pi, bins = 20)"
   ]
  },
  {
   "cell_type": "code",
   "execution_count": null,
   "metadata": {},
   "outputs": [],
   "source": [
    "plt.hist(t.amp*180/np.pi, bins = 20)"
   ]
  },
  {
   "cell_type": "code",
   "execution_count": null,
   "metadata": {},
   "outputs": [],
   "source": [
    "plt.hist((t.phi+t.lambda_N)%(2*np.pi)*180/np.pi, bins = 20)"
   ]
  },
  {
   "cell_type": "code",
   "execution_count": null,
   "metadata": {},
   "outputs": [],
   "source": [
    "plt.yscale('log')\n",
    "plt.hist(t.mag_r, bins = 20)"
   ]
  },
  {
   "cell_type": "code",
   "execution_count": null,
   "metadata": {},
   "outputs": [],
   "source": [
    "plt.axis('equal')\n",
    "plt.scatter(t.X,t.Y, marker = '.')\n",
    "plt.plot(xn, yn, 'y')\n",
    "plt.plot(x45, y45, 'y')\n",
    "plt.plot(t.x_n, t.y_n, 'ro')"
   ]
  },
  {
   "cell_type": "code",
   "execution_count": null,
   "metadata": {},
   "outputs": [],
   "source": [
    "trojan = Scatter3d(x=t.X, y=t.Y, z=t.Z, mode='markers', marker=dict(size=1, symbol='circle'), opacity=0.7, name='plutinos')\n",
    "sun = Scatter3d(x=0, y=0, z=0, mode='markers', marker=dict(size=10, symbol='circle'), opacity=1, name='Sun')\n",
    "neptune = Scatter3d(x=t.x_n, y=t.y_n, z=t.z_n, mode='markers', marker=dict(size=5, symbol='circle'), opacity=0.7, name ='Neptune')\n",
    "fig = Figure(data=[trojan, sun, neptune])\n",
    "py.iplot(fig)"
   ]
  },
  {
   "cell_type": "code",
   "execution_count": null,
   "metadata": {},
   "outputs": [],
   "source": [
    "plt.figure(figsize=(20,10))\n",
    "m = buildmap(t.ra, t.dec, ecliptic_plots=False)"
   ]
  },
  {
   "cell_type": "code",
   "execution_count": null,
   "metadata": {
    "collapsed": true
   },
   "outputs": [],
   "source": [
    "two = twotino(size = 5000, mjd=57023, e_c = 0.4, amp_c = 3, amp_max = 5, amp_min = 0)"
   ]
  },
  {
   "cell_type": "code",
   "execution_count": null,
   "metadata": {},
   "outputs": [],
   "source": [
    "plt.hist((two.i)*180/np.pi, bins = 20)"
   ]
  },
  {
   "cell_type": "code",
   "execution_count": null,
   "metadata": {},
   "outputs": [],
   "source": [
    "plt.hist((two.phi+two.lambda_N)%(2*np.pi)*180/np.pi, bins = 20)"
   ]
  },
  {
   "cell_type": "code",
   "execution_count": null,
   "metadata": {},
   "outputs": [],
   "source": [
    "plt.yscale('log')\n",
    "plt.hist(t.mag_r, bins = 20)"
   ]
  },
  {
   "cell_type": "code",
   "execution_count": null,
   "metadata": {},
   "outputs": [],
   "source": [
    "plt.axis('equal')\n",
    "plt.scatter(two.X[two.phi0 == 0],two.Y[two.phi0 == 0], marker = '.')\n",
    "plt.plot(xn, yn, 'y')\n",
    "plt.plot(x45, y45, 'y')\n",
    "plt.plot(two.x_n, two.y_n, 'ro')"
   ]
  },
  {
   "cell_type": "code",
   "execution_count": null,
   "metadata": {},
   "outputs": [],
   "source": [
    "plt.axis('equal')\n",
    "plt.scatter(two.X[two.phi0 != 0],two.Y[two.phi0 != 0], marker = '.')\n",
    "plt.plot(xn, yn, 'y')\n",
    "plt.plot(x45, y45, 'y')\n",
    "plt.plot(two.x_n, two.y_n, 'ro')"
   ]
  },
  {
   "cell_type": "code",
   "execution_count": null,
   "metadata": {
    "scrolled": true
   },
   "outputs": [],
   "source": [
    "plt.axis('equal')\n",
    "plt.scatter(two.X,two.Y, marker = '.')\n",
    "plt.plot(xn, yn, 'y')\n",
    "plt.plot(x45, y45, 'y')\n",
    "plt.plot(two.x_n, two.y_n, 'ro')"
   ]
  },
  {
   "cell_type": "code",
   "execution_count": null,
   "metadata": {},
   "outputs": [],
   "source": [
    "twotinos = Scatter3d(x=two.X, y=two.Y, z=two.Z, mode='markers', marker=dict(size=1, symbol='circle'), opacity=0.7, name='twotinos')\n",
    "sun = Scatter3d(x=0, y=0, z=0, mode='markers', marker=dict(size=10, symbol='circle'), opacity=1, name='Sun')\n",
    "neptune = Scatter3d(x=two.x_n, y=two.y_n, z=two.z_n, mode='markers', marker=dict(size=5, symbol='circle'), opacity=0.7, name ='Neptune')\n",
    "fig = Figure(data=[twotinos, sun, neptune])\n",
    "py.iplot(fig)"
   ]
  },
  {
   "cell_type": "code",
   "execution_count": null,
   "metadata": {},
   "outputs": [],
   "source": [
    "plt.figure(figsize=(20,10))\n",
    "m = buildmap(two.ra[two.phi0 == 0], two.dec[two.phi0 == 0], ecliptic_plots=False)"
   ]
  },
  {
   "cell_type": "code",
   "execution_count": null,
   "metadata": {},
   "outputs": [],
   "source": [
    "plt.figure(figsize=(20,10))\n",
    "m = buildmap(two.ra[two.phi0 != 0], two.dec[two.phi0 != 0], ecliptic_plots=False)"
   ]
  }
 ],
 "metadata": {
  "kernelspec": {
   "display_name": "Python 2",
   "language": "python",
   "name": "python2"
  },
  "language_info": {
   "codemirror_mode": {
    "name": "ipython",
    "version": 2
   },
   "file_extension": ".py",
   "mimetype": "text/x-python",
   "name": "python",
   "nbconvert_exporter": "python",
   "pygments_lexer": "ipython2",
   "version": "2.7.14"
  }
 },
 "nbformat": 4,
 "nbformat_minor": 2
}
