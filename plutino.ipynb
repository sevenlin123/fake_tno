{
 "cells": [
  {
   "cell_type": "code",
   "execution_count": 1,
   "metadata": {
    "collapsed": false
   },
   "outputs": [
    {
     "name": "stderr",
     "output_type": "stream",
     "text": [
      "[#################################] 100% de423.bsp\n"
     ]
    }
   ],
   "source": [
    "%matplotlib inline\n",
    "import numpy as np\n",
    "from matplotlib import pyplot as plt\n",
    "from skyfield.api import load, Topos\n",
    "planets = load('de423.bsp')"
   ]
  },
  {
   "cell_type": "code",
   "execution_count": 27,
   "metadata": {
    "collapsed": true
   },
   "outputs": [],
   "source": [
    "class plutino:\n",
    "    \"\"\"\n",
    "    generate plutinos\n",
    "    \n",
    "    \"\"\"\n",
    "    def __init__(self):\n",
    "        self.size = 10000\n",
    "        self.lambda_N = 0\n",
    "        self.a = self.gen_a()\n",
    "        self.e = self.gen_e()\n",
    "        self.i = self.gen_i()\n",
    "        self.amp = self.gen_amp()\n",
    "        self.phi = self.gen_phi(self.amp)\n",
    "        self.M = self.gen_M()\n",
    "        self.node = self.gen_node()\n",
    "        self.arg = self.gen_arg(self.phi, self.M, self.node, self.lambda_N)\n",
    "        self.H = self.gen_H()\n",
    "    \n",
    "    def gen_a(self):\n",
    "        return 39.45 + np.random.random(self.size) * 0.4 - 0.2\n",
    "        \n",
    "    def gen_e(self):\n",
    "        return np.random.normal(loc=0.175, scale=0.06, size = self.size)\n",
    "        \n",
    "    def gen_i(self):\n",
    "        return np.arcsin(np.random.rayleigh(scale = 12 * np.pi/180., size = self.size))*180/np.pi\n",
    "        \n",
    "    def gen_amp(self):\n",
    "        return np.random.triangular(0, 75, 155, size = self.size)\n",
    "    \n",
    "    def gen_phi(self, amp):\n",
    "        return 180 + amp * np.sin(2*np.pi*np.random.random(self.size))\n",
    "        \n",
    "    def gen_M(self):\n",
    "        return 2*np.pi*np.random.random(self.size)\n",
    "        \n",
    "    def gen_node(self):\n",
    "        return 2*np.pi*np.random.random(self.size)\n",
    "        \n",
    "    def gen_arg(self, phi, M, node, lambda_N):\n",
    "        return 0.5*phi - 1.5*M - node + lambda_N\n",
    "    \n",
    "    def gen_H(self):\n",
    "        alpha = 0.9\n",
    "        h0 = 0\n",
    "        h1 = 10\n",
    "        h0s10 = 10**(alpha*h0)\n",
    "        h1s10 = 10**(alpha*h1)\n",
    "        return np.log10(np.random.random(self.size)*(h1s10-h0s10) + h0s10) / alpha"
   ]
  },
  {
   "cell_type": "code",
   "execution_count": 28,
   "metadata": {
    "collapsed": true
   },
   "outputs": [],
   "source": [
    "p = plutino()"
   ]
  },
  {
   "cell_type": "code",
   "execution_count": 29,
   "metadata": {
    "collapsed": false
   },
   "outputs": [
    {
     "data": {
      "text/plain": [
       "(array([3.410e+02, 9.350e+02, 1.331e+03, 1.563e+03, 1.498e+03, 1.291e+03,\n",
       "        1.046e+03, 7.360e+02, 4.810e+02, 3.200e+02, 1.920e+02, 1.170e+02,\n",
       "        6.600e+01, 4.000e+01, 1.400e+01, 1.600e+01, 4.000e+00, 8.000e+00,\n",
       "        0.000e+00, 1.000e+00]),\n",
       " array([3.94830162e-02, 3.17983122e+00, 6.32017942e+00, 9.46052762e+00,\n",
       "        1.26008758e+01, 1.57412240e+01, 1.88815722e+01, 2.20219204e+01,\n",
       "        2.51622686e+01, 2.83026168e+01, 3.14429650e+01, 3.45833132e+01,\n",
       "        3.77236614e+01, 4.08640096e+01, 4.40043578e+01, 4.71447060e+01,\n",
       "        5.02850542e+01, 5.34254024e+01, 5.65657506e+01, 5.97060988e+01,\n",
       "        6.28464470e+01]),\n",
       " <a list of 20 Patch objects>)"
      ]
     },
     "execution_count": 29,
     "metadata": {},
     "output_type": "execute_result"
    },
    {
     "data": {
      "image/png": "[encoded data removed]",
      "text/plain": [
       "<matplotlib.figure.Figure at 0x111712210>"
      ]
     },
     "metadata": {},
     "output_type": "display_data"
    }
   ],
   "source": [
    "plt.hist(p.i, bins=20)"
   ]
  },
  {
   "cell_type": "code",
   "execution_count": 30,
   "metadata": {
    "collapsed": false
   },
   "outputs": [
    {
     "data": {
      "text/plain": [
       "(array([1.000e+00, 3.000e+00, 1.500e+01, 5.300e+01, 1.480e+02, 3.220e+02,\n",
       "        6.070e+02, 1.023e+03, 1.356e+03, 1.680e+03, 1.626e+03, 1.323e+03,\n",
       "        8.860e+02, 5.540e+02, 2.480e+02, 1.010e+02, 4.100e+01, 1.000e+01,\n",
       "        2.000e+00, 1.000e+00]),\n",
       " array([-0.07524258, -0.05001055, -0.02477851,  0.00045353,  0.02568557,\n",
       "         0.0509176 ,  0.07614964,  0.10138168,  0.12661372,  0.15184575,\n",
       "         0.17707779,  0.20230983,  0.22754187,  0.2527739 ,  0.27800594,\n",
       "         0.30323798,  0.32847002,  0.35370205,  0.37893409,  0.40416613,\n",
       "         0.42939817]),\n",
       " <a list of 20 Patch objects>)"
      ]
     },
     "execution_count": 30,
     "metadata": {},
     "output_type": "execute_result"
    },
    {
     "data": {
      "image/png": "[encoded data removed]",
      "text/plain": [
       "<matplotlib.figure.Figure at 0x1118e75d0>"
      ]
     },
     "metadata": {},
     "output_type": "display_data"
    }
   ],
   "source": [
    "plt.hist(p.e, bins=20)"
   ]
  },
  {
   "cell_type": "code",
   "execution_count": 31,
   "metadata": {
    "collapsed": false
   },
   "outputs": [
    {
     "data": {
      "text/plain": [
       "(array([477., 497., 497., 510., 500., 497., 500., 507., 507., 526., 522.,\n",
       "        461., 518., 488., 521., 476., 498., 506., 508., 484.]),\n",
       " array([39.25000141, 39.27000061, 39.28999981, 39.30999902, 39.32999822,\n",
       "        39.34999742, 39.36999663, 39.38999583, 39.40999503, 39.42999424,\n",
       "        39.44999344, 39.46999264, 39.48999185, 39.50999105, 39.52999025,\n",
       "        39.54998946, 39.56998866, 39.58998786, 39.60998707, 39.62998627,\n",
       "        39.64998547]),\n",
       " <a list of 20 Patch objects>)"
      ]
     },
     "execution_count": 31,
     "metadata": {},
     "output_type": "execute_result"
    },
    {
     "data": {
      "image/png": "[encoded data removed]",
      "text/plain": [
       "<matplotlib.figure.Figure at 0x110d62590>"
      ]
     },
     "metadata": {},
     "output_type": "display_data"
    }
   ],
   "source": [
    "plt.hist(p.a, bins=20)"
   ]
  },
  {
   "cell_type": "code",
   "execution_count": 32,
   "metadata": {
    "collapsed": false
   },
   "outputs": [
    {
     "data": {
      "text/plain": [
       "(array([ 58., 147., 247., 341., 484., 599., 649., 818., 834., 910., 927.,\n",
       "        832., 702., 623., 573., 441., 329., 276., 142.,  68.]),\n",
       " array([  1.05711418,   8.72111214,  16.3851101 ,  24.04910806,\n",
       "         31.71310601,  39.37710397,  47.04110193,  54.70509989,\n",
       "         62.36909784,  70.0330958 ,  77.69709376,  85.36109172,\n",
       "         93.02508967, 100.68908763, 108.35308559, 116.01708354,\n",
       "        123.6810815 , 131.34507946, 139.00907742, 146.67307537,\n",
       "        154.33707333]),\n",
       " <a list of 20 Patch objects>)"
      ]
     },
     "execution_count": 32,
     "metadata": {},
     "output_type": "execute_result"
    },
    {
     "data": {
      "image/png": "[encoded data removed]",
      "text/plain": [
       "<matplotlib.figure.Figure at 0x111c8b9d0>"
      ]
     },
     "metadata": {},
     "output_type": "display_data"
    }
   ],
   "source": [
    "plt.hist(p.amp, bins=20)"
   ]
  },
  {
   "cell_type": "code",
   "execution_count": 33,
   "metadata": {
    "collapsed": false
   },
   "outputs": [
    {
     "data": {
      "text/plain": [
       "(array([ 34.,  80., 180., 314., 484., 662., 760., 815., 851., 851., 870.,\n",
       "        859., 817., 712., 638., 494., 280., 180., 102.,  17.]),\n",
       " array([ 28.85492233,  44.04276243,  59.23060253,  74.41844263,\n",
       "         89.60628273, 104.79412283, 119.98196292, 135.16980302,\n",
       "        150.35764312, 165.54548322, 180.73332332, 195.92116342,\n",
       "        211.10900352, 226.29684361, 241.48468371, 256.67252381,\n",
       "        271.86036391, 287.04820401, 302.23604411, 317.42388421,\n",
       "        332.6117243 ]),\n",
       " <a list of 20 Patch objects>)"
      ]
     },
     "execution_count": 33,
     "metadata": {},
     "output_type": "execute_result"
    },
    {
     "data": {
      "image/png": "[encoded data removed]",
      "text/plain": [
       "<matplotlib.figure.Figure at 0x111b20890>"
      ]
     },
     "metadata": {},
     "output_type": "display_data"
    }
   ],
   "source": [
    "plt.hist(p.phi, bins=20)"
   ]
  },
  {
   "cell_type": "code",
   "execution_count": 37,
   "metadata": {
    "collapsed": false
   },
   "outputs": [
    {
     "data": {
      "text/plain": [
       "(array([1.000e+00, 3.000e+00, 1.000e+00, 3.000e+00, 1.000e+00, 5.000e+00,\n",
       "        1.200e+01, 1.900e+01, 2.200e+01, 3.900e+01, 6.600e+01, 1.060e+02,\n",
       "        1.760e+02, 2.520e+02, 4.140e+02, 5.680e+02, 8.930e+02, 1.448e+03,\n",
       "        2.288e+03, 3.683e+03]),\n",
       " array([5.75990339, 5.97190253, 6.18390168, 6.39590082, 6.60789996,\n",
       "        6.81989911, 7.03189825, 7.24389739, 7.45589653, 7.66789568,\n",
       "        7.87989482, 8.09189396, 8.30389311, 8.51589225, 8.72789139,\n",
       "        8.93989054, 9.15188968, 9.36388882, 9.57588797, 9.78788711,\n",
       "        9.99988625]),\n",
       " <a list of 20 Patch objects>)"
      ]
     },
     "execution_count": 37,
     "metadata": {},
     "output_type": "execute_result"
    },
    {
     "data": {
      "image/png": "[encoded data removed]",
      "text/plain": [
       "<matplotlib.figure.Figure at 0x112223550>"
      ]
     },
     "metadata": {},
     "output_type": "display_data"
    }
   ],
   "source": [
    "#plt.yscale('log')\n",
    "plt.hist(p.H, bins=20)"
   ]
  },
  {
   "cell_type": "code",
   "execution_count": null,
   "metadata": {
    "collapsed": true
   },
   "outputs": [],
   "source": []
  }
 ],
 "metadata": {
  "kernelspec": {
   "display_name": "Python 2",
   "language": "python",
   "name": "python2"
  },
  "language_info": {
   "codemirror_mode": {
    "name": "ipython",
    "version": 2
   },
   "file_extension": ".py",
   "mimetype": "text/x-python",
   "name": "python",
   "nbconvert_exporter": "python",
   "pygments_lexer": "ipython2",
   "version": "2.7.13"
  }
 },
 "nbformat": 4,
 "nbformat_minor": 2
}
